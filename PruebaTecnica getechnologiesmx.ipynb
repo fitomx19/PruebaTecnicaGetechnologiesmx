{
 "cells": [
  {
   "cell_type": "markdown",
   "id": "c171d61f",
   "metadata": {},
   "source": [
    "### Prueba Técnica Michael Adolfo Huerta Ramírez"
   ]
  },
  {
   "cell_type": "markdown",
   "id": "ea8fd73e",
   "metadata": {},
   "source": [
    "¿Qué es la programación orientada a objetos? En qué casos utilizarla?"
   ]
  },
  {
   "cell_type": "markdown",
   "id": "c2334915",
   "metadata": {},
   "source": [
    "Es un paradigma de programacion donde los objetos son la base , esta enfocado en la reutilizacion de codigo y se rige bajos estrictos principios como herencia, polimorfismo, encapsulamiento, abstraccion.\n",
    "\n",
    "Lo utilizaria para sistemas donde vayamos a volver a utilizar en diversas ocasiones un mismo codigo, o debamos cumplir estrictos campos para evitar duplicados o errores en la insercion de infromacion"
   ]
  },
  {
   "cell_type": "markdown",
   "id": "62bfb640",
   "metadata": {},
   "source": [
    "Si realizamos un sistema de inventarios para un supermercado desde 0, cuáles serían\n",
    "tus preguntas hacia el cliente?"
   ]
  },
  {
   "cell_type": "markdown",
   "id": "6e854d2a",
   "metadata": {},
   "source": [
    "¿Cual es el alcance del sistema?¿Quienes son los usuarios finales?¿Donde se va utizar?¿Cuanto tiempo se va a utlizar?\n",
    "¿Cuantos transacciones son esperadas? ¿El sistema generara reportes? ¿En que equipos se instalara la solucion?\n",
    "¿El sistema sera escalable? "
   ]
  },
  {
   "cell_type": "markdown",
   "id": "740240f9",
   "metadata": {},
   "source": [
    "1.-Realiza un programa, valida si es una fecha válida y formato."
   ]
  },
  {
   "cell_type": "markdown",
   "id": "cf8bc635",
   "metadata": {},
   "source": [
    "Formato esperado dd/MM/yyyy\n",
    "Entradas: 45/13/2002, 03/02/2001, 01/20/2010, 02-04-2010"
   ]
  },
  {
   "cell_type": "code",
   "execution_count": 1,
   "id": "50585cc0",
   "metadata": {},
   "outputs": [
    {
     "name": "stdout",
     "output_type": "stream",
     "text": [
      "probamos la fecha: 45/13/2002 en formato dd/MM/yyyy: \n",
      "Fecha inválida\n",
      "probamos la fecha: 03/02/2001 en formato dd/MM/yyyy: \n",
      "Fecha válida\n",
      "probamos la fecha: 01/20/2010 en formato dd/MM/yyyy: \n",
      "Fecha inválida\n",
      "probamos la fecha: 02-04-2010 en formato dd/MM/yyyy: \n",
      "Fecha inválida\n"
     ]
    }
   ],
   "source": [
    "from datetime import datetime\n",
    "entradas = [\"45/13/2002\",\"03/02/2001\",\"01/20/2010\",\"02-04-2010\"]\n",
    "def probar_fechas(entradas):   \n",
    "    for e in entradas:\n",
    "        try:\n",
    "            print(\"probamos la fecha: \" + e +\" en formato dd/MM/yyyy: \")\n",
    "            datetime.strptime(e, '%d/%m/%Y')\n",
    "            print (\"Fecha válida\")\n",
    "        except ValueError:\n",
    "            print(\"Fecha inválida\")\n",
    "\n",
    "probar_fechas(entradas)"
   ]
  },
  {
   "cell_type": "markdown",
   "id": "efab26bf",
   "metadata": {},
   "source": [
    "2.-Realiza un programa, el usuario puede introducir una cadena de caracteres y le\n",
    "mostraras de salida cuántos números existen en la cadena."
   ]
  },
  {
   "cell_type": "markdown",
   "id": "db4cc1d3",
   "metadata": {},
   "source": [
    "Entrada : jj@dud324khsa123h12\n",
    "Salida: 8"
   ]
  },
  {
   "cell_type": "code",
   "execution_count": 2,
   "id": "37f92192",
   "metadata": {},
   "outputs": [
    {
     "name": "stdout",
     "output_type": "stream",
     "text": [
      "Introduce la cadena de caracteres : fsdfsdf7892343\n",
      "7\n"
     ]
    }
   ],
   "source": [
    "import re\n",
    "cadena = input('Introduce la cadena de caracteres : ')\n",
    "buscar = re.findall(\"[0-9]\", cadena)\n",
    "print(len(buscar))"
   ]
  },
  {
   "cell_type": "code",
   "execution_count": 3,
   "id": "8cf9c0cf",
   "metadata": {},
   "outputs": [
    {
     "name": "stdout",
     "output_type": "stream",
     "text": [
      "8\n"
     ]
    }
   ],
   "source": [
    "\n",
    "\n",
    "txt = \"jj@dud324khsa123h12\"\n",
    "x = re.findall(\"[0-9]\", txt)\n",
    "print(len(x))"
   ]
  },
  {
   "cell_type": "markdown",
   "id": "8f269912",
   "metadata": {},
   "source": [
    "3. Realiza un programa que despliega un menú con las siguientes opciones:"
   ]
  },
  {
   "cell_type": "markdown",
   "id": "b7e02bf8",
   "metadata": {},
   "source": [
    "- Registrar empleados, con las siguientes características: id, nombre,apellido paterno, apellido materno, fecha de nacimiento.\n",
    "- Obtener la edad de un empleado, pasando por parámetro de búsqueda el id.\n",
    "- Obtener lista de empleados por orden alfabético apellido.\n",
    "- Obtener lista de empleados por orden de edad."
   ]
  },
  {
   "cell_type": "code",
   "execution_count": 4,
   "id": "02987f5d",
   "metadata": {},
   "outputs": [],
   "source": [
    "class Empleados:\n",
    "  def __init__(self, nombre, id,aPaterno,aMaterno,FNacimiento):\n",
    "    self.nombre = nombre\n",
    "    self.id = id\n",
    "    self.aPaterno = aPaterno\n",
    "    self.aMaterno = aMaterno\n",
    "    self.FNacimiento = FNacimiento"
   ]
  },
  {
   "cell_type": "markdown",
   "id": "1962751f",
   "metadata": {},
   "source": [
    "Cremos los empleados "
   ]
  },
  {
   "cell_type": "code",
   "execution_count": 5,
   "id": "1751df63",
   "metadata": {},
   "outputs": [],
   "source": [
    "lista_empleados = []\n",
    "lista_empleados.append(Empleados(\"Adolfo\", 1 , \"Huerta\" , \"Ramírez\" , \"19/12/1999\"))\n",
    "lista_empleados.append(Empleados(\"Andres\", 2 , \"Hernandez\" , \"Gutierrez\" , \"09/11/1980\"))\n",
    "lista_empleados.append(Empleados(\"Michael\", 3 , \"Sosa\" , \"Vazquez\" , \"12/05/2001\"))\n"
   ]
  },
  {
   "cell_type": "markdown",
   "id": "ed6640be",
   "metadata": {},
   "source": [
    "Cremos la funcion de buscar edad"
   ]
  },
  {
   "cell_type": "code",
   "execution_count": 6,
   "id": "dae39388",
   "metadata": {},
   "outputs": [],
   "source": [
    "from datetime import datetime\n",
    "from dateutil.relativedelta import relativedelta\n",
    "\n",
    "def buscar_edad_empleado_por_id(id):\n",
    "    for e in lista_empleados:\n",
    "        if(e.id == id):\n",
    "            #parseamos la fecha \n",
    "            fecha = datetime.strptime(e.FNacimiento, '%d/%m/%Y')\n",
    "            edad = relativedelta(datetime.now(), fecha)\n",
    "            print(f\" {e.nombre} tiene {edad.years} años\")\n",
    "        "
   ]
  },
  {
   "cell_type": "code",
   "execution_count": 7,
   "id": "87171339",
   "metadata": {},
   "outputs": [
    {
     "name": "stdout",
     "output_type": "stream",
     "text": [
      " Andres tiene 41 años\n"
     ]
    }
   ],
   "source": [
    "buscar_edad_empleado_por_id(2)"
   ]
  },
  {
   "cell_type": "markdown",
   "id": "a29916a7",
   "metadata": {},
   "source": [
    "Creamos la funcion de ordenar alfabeticamente"
   ]
  },
  {
   "cell_type": "code",
   "execution_count": 8,
   "id": "d3374794",
   "metadata": {},
   "outputs": [],
   "source": [
    "import numpy as np\n",
    "def ordenar_por_orden_alfabetico_apellido():\n",
    "    listaP = []\n",
    "    listaM = []\n",
    "    ordenados = []\n",
    "    for e in lista_empleados:\n",
    "        listaP.append(e.aPaterno)\n",
    "        listaM.append(e.aMaterno)\n",
    "    orden = np.lexsort((listaP,listaM))\n",
    "    tt = np.array(orden)\n",
    "    for t in tt:\n",
    "        ordenados.append(f\"{lista_empleados[t].nombre} {lista_empleados[t].aPaterno} {lista_empleados[t].aMaterno}\" )\n",
    "    return ordenados"
   ]
  },
  {
   "cell_type": "code",
   "execution_count": 9,
   "id": "d87c9798",
   "metadata": {},
   "outputs": [
    {
     "name": "stdout",
     "output_type": "stream",
     "text": [
      "Andres Hernandez Gutierrez\n",
      "Adolfo Huerta Ramírez\n",
      "Michael Sosa Vazquez\n"
     ]
    }
   ],
   "source": [
    "resultado = ordenar_por_orden_alfabetico_apellido()\n",
    "for x in resultado:\n",
    "    print(x)"
   ]
  },
  {
   "cell_type": "markdown",
   "id": "c2d45df3",
   "metadata": {},
   "source": [
    "Creamos la funcion de ordenar por edades"
   ]
  },
  {
   "cell_type": "code",
   "execution_count": 10,
   "id": "5229d4fd",
   "metadata": {},
   "outputs": [],
   "source": [
    "def ordenar_por_fechas_nacimiento():\n",
    "    ordenados = []\n",
    "    listaF = []\n",
    "\n",
    "    for ex in lista_empleados:\n",
    "        fechaParsed = datetime.strptime(ex.FNacimiento, '%d/%m/%Y')\n",
    "        ordenados.append(fechaParsed)\n",
    "        #print(fechaParsed)\n",
    "\n",
    "\n",
    "    indices = [ordenados.index(x) for x in sorted(ordenados)]\n",
    "\n",
    "    for t in indices:\n",
    "        print(f\"{lista_empleados[t].nombre} {lista_empleados[t].aPaterno} {lista_empleados[t].aMaterno} - {lista_empleados[t].FNacimiento}\")"
   ]
  },
  {
   "cell_type": "code",
   "execution_count": 11,
   "id": "374cfc57",
   "metadata": {},
   "outputs": [
    {
     "name": "stdout",
     "output_type": "stream",
     "text": [
      "Andres Hernandez Gutierrez - 09/11/1980\n",
      "Adolfo Huerta Ramírez - 19/12/1999\n",
      "Michael Sosa Vazquez - 12/05/2001\n"
     ]
    }
   ],
   "source": [
    "nac = ordenar_por_fechas_nacimiento()\n",
    "nac"
   ]
  },
  {
   "cell_type": "markdown",
   "id": "e2c35f48",
   "metadata": {},
   "source": [
    "Agradezco su tiempo, muchas gracias!"
   ]
  }
 ],
 "metadata": {
  "kernelspec": {
   "display_name": "Python 3",
   "language": "python",
   "name": "python3"
  },
  "language_info": {
   "codemirror_mode": {
    "name": "ipython",
    "version": 3
   },
   "file_extension": ".py",
   "mimetype": "text/x-python",
   "name": "python",
   "nbconvert_exporter": "python",
   "pygments_lexer": "ipython3",
   "version": "3.8.8"
  }
 },
 "nbformat": 4,
 "nbformat_minor": 5
}
